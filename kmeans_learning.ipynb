{
 "cells": [
  {
   "cell_type": "code",
   "execution_count": 9,
   "metadata": {},
   "outputs": [
    {
     "name": "stdout",
     "output_type": "stream",
     "text": [
      "labels: [1 1 1 1 0 0 0 0 2 2]\n",
      "[[5.5 0. ]\n",
      " [1.5 0. ]\n",
      " [8.5 0. ]]\n"
     ]
    },
    {
     "data": {
      "text/plain": [
       "<matplotlib.collections.PathCollection at 0x7f140d88da60>"
      ]
     },
     "execution_count": 9,
     "metadata": {},
     "output_type": "execute_result"
    },
    {
     "data": {
      "image/png": "[encoded data removed]",
      "text/plain": [
       "<Figure size 432x288 with 1 Axes>"
      ]
     },
     "metadata": {
      "needs_background": "light"
     },
     "output_type": "display_data"
    }
   ],
   "source": [
    "import numpy as np\n",
    "from sklearn.cluster import KMeans\n",
    "from kneed import KneeLocator\n",
    "X = np.array([[x,0] for x in range(10)],dtype=np.int32)\n",
    "#X = np.array([[1,1,3,-10],[2,1,3,-5],[1,2,4,10],[101,99,12,5],[100,100,5,5],[102,100,12,0], [-50,-50,55,5],[-51,-48,-25,10],[-50,-52,-2,-5]], dtype=np.int32)\n",
    "kmeans = KMeans(random_state=0, n_init=10).fit(X)\n",
    "\n",
    "def calculate_WSS(points, kmax):\n",
    "    sse = []\n",
    "    for k in range(1, kmax+1):\n",
    "        kmeans = KMeans(n_clusters = k).fit(points)\n",
    "        centroids = kmeans.cluster_centers_\n",
    "        pred_clusters = kmeans.predict(points)\n",
    "        curr_sse = 0\n",
    "    \n",
    "        # calculate square of Euclidean distance of each point from its cluster center and add to current WSS\n",
    "        for i in range(len(points)):\n",
    "            curr_center = centroids[pred_clusters[i]]\n",
    "            curr_sse += (points[i, 0] - curr_center[0]) ** 2 + (points[i, 1] - curr_center[1]) ** 2\n",
    "        \n",
    "        sse.append(curr_sse)\n",
    "    sseRange = range(1,len(sse)+1)\n",
    "    kn = KneeLocator(sseRange, sse, curve='convex', direction='decreasing')\n",
    "    result = KMeans(n_clusters=kn.knee).fit(points)\n",
    "    print('labels:',result.labels_)\n",
    "    return result.cluster_centers_\n",
    "\n",
    "\n",
    "c = calculate_WSS(X,len(X)-1)\n",
    "x = [a[0] for a in X]\n",
    "y = [a[1] for a in X]\n",
    "print(c)\n",
    "import matplotlib.pyplot as plt\n",
    "plt.scatter(x, y, alpha = 0.6, s=20)\n",
    "plt.scatter([a[0] for a in c], [a[1] for a in c], alpha = 0.6, s=50)"
   ]
  }
 ],
 "metadata": {
  "interpreter": {
   "hash": "bf417d2eb0d9f364b5fc99090d6e5f48c9d5656840904cc0a3d104dd2663907c"
  },
  "kernelspec": {
   "display_name": "Python 3.8.10 64-bit ('venv': venv)",
   "language": "python",
   "name": "python3"
  },
  "language_info": {
   "codemirror_mode": {
    "name": "ipython",
    "version": 3
   },
   "file_extension": ".py",
   "mimetype": "text/x-python",
   "name": "python",
   "nbconvert_exporter": "python",
   "pygments_lexer": "ipython3",
   "version": "3.8.10"
  },
  "orig_nbformat": 4
 },
 "nbformat": 4,
 "nbformat_minor": 2
}
